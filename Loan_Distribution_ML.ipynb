{
  "nbformat": 4,
  "nbformat_minor": 0,
  "metadata": {
    "colab": {
      "provenance": []
    },
    "kernelspec": {
      "name": "python3",
      "display_name": "Python 3"
    },
    "language_info": {
      "name": "python"
    }
  },
  "cells": [
    {
      "cell_type": "markdown",
      "source": [],
      "metadata": {
        "id": "k3QScYCdZoqQ"
      }
    },
    {
      "cell_type": "markdown",
      "source": [
        "FUCK YOU ALL"
      ],
      "metadata": {
        "id": "0a8BUws_YnKJ"
      }
    },
    {
      "cell_type": "markdown",
      "source": [
        "# HAROLD CODE"
      ],
      "metadata": {
        "id": "W7IiqDHPW7pO"
      }
    },
    {
      "cell_type": "code",
      "source": [],
      "metadata": {
        "id": "Fot-dLlsY-aI"
      },
      "execution_count": null,
      "outputs": []
    },
    {
      "cell_type": "markdown",
      "source": [
        "# AYMRICK CODE\n"
      ],
      "metadata": {
        "id": "Fj9nEuCLXDIy"
      }
    },
    {
      "cell_type": "markdown",
      "source": [
        "# AYMARD CODE"
      ],
      "metadata": {
        "id": "gEMe3kuzXIXx"
      }
    },
    {
      "cell_type": "code",
      "source": [],
      "metadata": {
        "id": "6ogrScR4YUdb"
      },
      "execution_count": null,
      "outputs": []
    },
    {
      "cell_type": "markdown",
      "source": [
        "# HERMES CODE"
      ],
      "metadata": {
        "id": "EjZQRFS8XI04"
      }
    },
    {
      "cell_type": "markdown",
      "source": [
        "# RAMSES CODE\n",
        "\n"
      ],
      "metadata": {
        "id": "-07vScPgXJIZ"
      }
    }
  ]
}